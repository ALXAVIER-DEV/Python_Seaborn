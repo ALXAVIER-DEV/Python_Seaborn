{
  "nbformat": 4,
  "nbformat_minor": 0,
  "metadata": {
    "colab": {
      "name": "Analise Tips.ipynb",
      "provenance": [],
      "private_outputs": true,
      "collapsed_sections": [],
      "authorship_tag": "ABX9TyNZ3JnfSLGkAwOVzzE3Xsvy",
      "include_colab_link": true
    },
    "kernelspec": {
      "name": "python3",
      "display_name": "Python 3"
    }
  },
  "cells": [
    {
      "cell_type": "markdown",
      "metadata": {
        "id": "view-in-github",
        "colab_type": "text"
      },
      "source": [
        "<a href=\"https://colab.research.google.com/github/ALXAVIER-DEV/Python_Seaborn/blob/master/Analise_Tips.ipynb\" target=\"_parent\"><img src=\"https://colab.research.google.com/assets/colab-badge.svg\" alt=\"Open In Colab\"/></a>"
      ]
    },
    {
      "cell_type": "markdown",
      "metadata": {
        "id": "Qtpxfp9JA3h0",
        "colab_type": "text"
      },
      "source": [
        "##Importando base de dados."
      ]
    },
    {
      "cell_type": "code",
      "metadata": {
        "id": "QCdoc88YBIvd",
        "colab_type": "code",
        "colab": {}
      },
      "source": [
        "import pandas as pd"
      ],
      "execution_count": null,
      "outputs": []
    },
    {
      "cell_type": "code",
      "metadata": {
        "id": "KkJLrSADBT-X",
        "colab_type": "code",
        "colab": {}
      },
      "source": [
        "pd.read_csv('/content/tips.csv')"
      ],
      "execution_count": null,
      "outputs": []
    },
    {
      "cell_type": "code",
      "metadata": {
        "id": "7nGDJl3EBhQj",
        "colab_type": "code",
        "colab": {}
      },
      "source": [
        "dados = pd.read_csv('/content/tips.csv')"
      ],
      "execution_count": null,
      "outputs": []
    },
    {
      "cell_type": "code",
      "metadata": {
        "id": "ZVJ7baRvCLen",
        "colab_type": "code",
        "colab": {}
      },
      "source": [
        "dados.head()"
      ],
      "execution_count": null,
      "outputs": []
    },
    {
      "cell_type": "markdown",
      "metadata": {
        "id": "SPaYyvs4C2tt",
        "colab_type": "text"
      },
      "source": [
        "#Traducao"
      ]
    },
    {
      "cell_type": "code",
      "metadata": {
        "id": "0d1oRxIpC8o-",
        "colab_type": "code",
        "colab": {}
      },
      "source": [
        "dados.columns"
      ],
      "execution_count": null,
      "outputs": []
    },
    {
      "cell_type": "code",
      "metadata": {
        "id": "ewmsVMjBC_vK",
        "colab_type": "code",
        "colab": {}
      },
      "source": [
        "renomear ={\n",
        "    'total_bill': 'valor_da_conta', \n",
        "           'tip': 'gorjeta', \n",
        "           'dessert' :'sobremesa', \n",
        "           'day' : 'dia_da_semana', \n",
        "           'time': 'hora_do_dia',\n",
        "           'size': 'total_de_pessoas'\n",
        "           }\n"
      ],
      "execution_count": null,
      "outputs": []
    },
    {
      "cell_type": "code",
      "metadata": {
        "id": "mo-4YW2YEAL9",
        "colab_type": "code",
        "colab": {}
      },
      "source": [
        "type(dados)"
      ],
      "execution_count": null,
      "outputs": []
    },
    {
      "cell_type": "code",
      "metadata": {
        "id": "f11RB94wEXuk",
        "colab_type": "code",
        "colab": {}
      },
      "source": [
        "gorjetas = dados.rename(columns= renomear) "
      ],
      "execution_count": null,
      "outputs": []
    },
    {
      "cell_type": "code",
      "metadata": {
        "id": "s0qmmOU7Ejl-",
        "colab_type": "code",
        "colab": {}
      },
      "source": [
        "gorjetas.head(1)"
      ],
      "execution_count": null,
      "outputs": []
    },
    {
      "cell_type": "code",
      "metadata": {
        "id": "B2AgXpHeEn9d",
        "colab_type": "code",
        "colab": {}
      },
      "source": [
        "gorjetas.sobremesa.unique()"
      ],
      "execution_count": null,
      "outputs": []
    },
    {
      "cell_type": "code",
      "metadata": {
        "id": "-_KqWr6vE3MR",
        "colab_type": "code",
        "colab": {}
      },
      "source": [
        "sim_nao = {'No': 'Nao',\n",
        "           'Yes': 'Sim'}"
      ],
      "execution_count": null,
      "outputs": []
    },
    {
      "cell_type": "code",
      "metadata": {
        "id": "iRbeTuuRFXNx",
        "colab_type": "code",
        "colab": {}
      },
      "source": [
        "gorjetas.sobremesa.map(sim_nao)"
      ],
      "execution_count": null,
      "outputs": []
    },
    {
      "cell_type": "code",
      "metadata": {
        "id": "1O447d7jFzpK",
        "colab_type": "code",
        "colab": {}
      },
      "source": [
        "gorjetas.head(1)"
      ],
      "execution_count": null,
      "outputs": []
    },
    {
      "cell_type": "code",
      "metadata": {
        "id": "4xu_2dBeF9HA",
        "colab_type": "code",
        "colab": {}
      },
      "source": [
        "gorjetas.sobremesa = gorjetas.sobremesa.map(sim_nao)"
      ],
      "execution_count": null,
      "outputs": []
    },
    {
      "cell_type": "code",
      "metadata": {
        "id": "4HpYm8fUGGgJ",
        "colab_type": "code",
        "colab": {}
      },
      "source": [
        "gorjetas.head(1)"
      ],
      "execution_count": null,
      "outputs": []
    },
    {
      "cell_type": "code",
      "metadata": {
        "id": "B4xkT1NEGKas",
        "colab_type": "code",
        "colab": {}
      },
      "source": [
        "gorjetas.dia_da_semana.unique()"
      ],
      "execution_count": null,
      "outputs": []
    },
    {
      "cell_type": "code",
      "metadata": {
        "id": "MHebxxEoGQA0",
        "colab_type": "code",
        "colab": {}
      },
      "source": [
        "dias = {'Sun': 'Domingo', 'Sat': 'Sabado', 'Thur': 'Quinta', 'Fri':'Sexta'}"
      ],
      "execution_count": null,
      "outputs": []
    },
    {
      "cell_type": "code",
      "metadata": {
        "id": "wgzXmZz0GtXI",
        "colab_type": "code",
        "colab": {}
      },
      "source": [
        "gorjetas.dia_da_semana = gorjetas.dia_da_semana.map(dias)"
      ],
      "execution_count": null,
      "outputs": []
    },
    {
      "cell_type": "code",
      "metadata": {
        "id": "6w9oeGFFG34Q",
        "colab_type": "code",
        "colab": {}
      },
      "source": [
        "gorjetas.head(1)"
      ],
      "execution_count": null,
      "outputs": []
    },
    {
      "cell_type": "code",
      "metadata": {
        "id": "9JWr0J29G7ZY",
        "colab_type": "code",
        "colab": {}
      },
      "source": [
        "gorjetas.hora_do_dia.unique()"
      ],
      "execution_count": null,
      "outputs": []
    },
    {
      "cell_type": "code",
      "metadata": {
        "id": "9xMs7vfjHDKP",
        "colab_type": "code",
        "colab": {}
      },
      "source": [
        "hora = {'Dinner': 'Jantar', 'Lunch':'Almoco'}"
      ],
      "execution_count": null,
      "outputs": []
    },
    {
      "cell_type": "code",
      "metadata": {
        "id": "aEcw-afHHh3G",
        "colab_type": "code",
        "colab": {}
      },
      "source": [
        "gorjetas.hora_do_dia = gorjetas.hora_do_dia.map(hora)"
      ],
      "execution_count": null,
      "outputs": []
    },
    {
      "cell_type": "code",
      "metadata": {
        "id": "78lfY45CIKOG",
        "colab_type": "code",
        "colab": {}
      },
      "source": [
        "gorjetas.head(1)"
      ],
      "execution_count": null,
      "outputs": []
    },
    {
      "cell_type": "code",
      "metadata": {
        "id": "pcqrEcJpIQ8c",
        "colab_type": "code",
        "colab": {}
      },
      "source": [
        "import seaborn as sns"
      ],
      "execution_count": null,
      "outputs": []
    }
  ]
}