{
  "nbformat": 4,
  "nbformat_minor": 0,
  "metadata": {
    "colab": {
      "name": "Analise Tips.ipynb",
      "provenance": [],
      "private_outputs": true,
      "collapsed_sections": [],
      "authorship_tag": "ABX9TyORYslkwnDjZq7KlpmZG2hj",
      "include_colab_link": true
    },
    "kernelspec": {
      "name": "python3",
      "display_name": "Python 3"
    }
  },
  "cells": [
    {
      "cell_type": "markdown",
      "metadata": {
        "id": "view-in-github",
        "colab_type": "text"
      },
      "source": [
        "<a href=\"https://colab.research.google.com/github/ALXAVIER-DEV/Python_Seaborn/blob/master/Analise_Tips.ipynb\" target=\"_parent\"><img src=\"https://colab.research.google.com/assets/colab-badge.svg\" alt=\"Open In Colab\"/></a>"
      ]
    },
    {
      "cell_type": "markdown",
      "metadata": {
        "id": "Qtpxfp9JA3h0",
        "colab_type": "text"
      },
      "source": [
        "##Importando base de dados."
      ]
    },
    {
      "cell_type": "code",
      "metadata": {
        "id": "QCdoc88YBIvd",
        "colab_type": "code",
        "colab": {}
      },
      "source": [
        "import pandas as pd"
      ],
      "execution_count": null,
      "outputs": []
    },
    {
      "cell_type": "code",
      "metadata": {
        "id": "KkJLrSADBT-X",
        "colab_type": "code",
        "colab": {}
      },
      "source": [
        "pd.read_csv('/content/tips.csv')"
      ],
      "execution_count": null,
      "outputs": []
    },
    {
      "cell_type": "code",
      "metadata": {
        "id": "7nGDJl3EBhQj",
        "colab_type": "code",
        "colab": {}
      },
      "source": [
        "dados = pd.read_csv('/content/tips.csv')"
      ],
      "execution_count": null,
      "outputs": []
    },
    {
      "cell_type": "code",
      "metadata": {
        "id": "ZVJ7baRvCLen",
        "colab_type": "code",
        "colab": {}
      },
      "source": [
        "dados.head()"
      ],
      "execution_count": null,
      "outputs": []
    },
    {
      "cell_type": "markdown",
      "metadata": {
        "id": "SPaYyvs4C2tt",
        "colab_type": "text"
      },
      "source": [
        "#Traducao"
      ]
    },
    {
      "cell_type": "code",
      "metadata": {
        "id": "0d1oRxIpC8o-",
        "colab_type": "code",
        "colab": {}
      },
      "source": [
        "dados.columns"
      ],
      "execution_count": null,
      "outputs": []
    },
    {
      "cell_type": "code",
      "metadata": {
        "id": "ewmsVMjBC_vK",
        "colab_type": "code",
        "colab": {}
      },
      "source": [
        "renomear ={\n",
        "    'total_bill': 'valor_da_conta', \n",
        "           'tip': 'gorjeta', \n",
        "           'dessert' :'sobremesa', \n",
        "           'day' : 'dia_da_semana', \n",
        "           'time': 'hora_do_dia',\n",
        "           'size': 'total_de_pessoas'\n",
        "           }\n"
      ],
      "execution_count": null,
      "outputs": []
    },
    {
      "cell_type": "code",
      "metadata": {
        "id": "mo-4YW2YEAL9",
        "colab_type": "code",
        "colab": {}
      },
      "source": [
        "type(dados)"
      ],
      "execution_count": null,
      "outputs": []
    },
    {
      "cell_type": "code",
      "metadata": {
        "id": "f11RB94wEXuk",
        "colab_type": "code",
        "colab": {}
      },
      "source": [
        "gorjetas = dados.rename(columns= renomear) "
      ],
      "execution_count": null,
      "outputs": []
    },
    {
      "cell_type": "code",
      "metadata": {
        "id": "s0qmmOU7Ejl-",
        "colab_type": "code",
        "colab": {}
      },
      "source": [
        "gorjetas.head(1)"
      ],
      "execution_count": null,
      "outputs": []
    },
    {
      "cell_type": "code",
      "metadata": {
        "id": "B2AgXpHeEn9d",
        "colab_type": "code",
        "colab": {}
      },
      "source": [
        "gorjetas.sobremesa.unique()"
      ],
      "execution_count": null,
      "outputs": []
    },
    {
      "cell_type": "code",
      "metadata": {
        "id": "-_KqWr6vE3MR",
        "colab_type": "code",
        "colab": {}
      },
      "source": [
        "sim_nao = {'No': 'Nao',\n",
        "           'Yes': 'Sim'}"
      ],
      "execution_count": null,
      "outputs": []
    },
    {
      "cell_type": "code",
      "metadata": {
        "id": "iRbeTuuRFXNx",
        "colab_type": "code",
        "colab": {}
      },
      "source": [
        "gorjetas.sobremesa.map(sim_nao)"
      ],
      "execution_count": null,
      "outputs": []
    },
    {
      "cell_type": "code",
      "metadata": {
        "id": "1O447d7jFzpK",
        "colab_type": "code",
        "colab": {}
      },
      "source": [
        "gorjetas.head(1)"
      ],
      "execution_count": null,
      "outputs": []
    },
    {
      "cell_type": "code",
      "metadata": {
        "id": "4xu_2dBeF9HA",
        "colab_type": "code",
        "colab": {}
      },
      "source": [
        "gorjetas.sobremesa = gorjetas.sobremesa.map(sim_nao)"
      ],
      "execution_count": null,
      "outputs": []
    },
    {
      "cell_type": "code",
      "metadata": {
        "id": "4HpYm8fUGGgJ",
        "colab_type": "code",
        "colab": {}
      },
      "source": [
        "gorjetas.head(1)"
      ],
      "execution_count": null,
      "outputs": []
    },
    {
      "cell_type": "code",
      "metadata": {
        "id": "B4xkT1NEGKas",
        "colab_type": "code",
        "colab": {}
      },
      "source": [
        "gorjetas.dia_da_semana.unique()"
      ],
      "execution_count": null,
      "outputs": []
    },
    {
      "cell_type": "code",
      "metadata": {
        "id": "MHebxxEoGQA0",
        "colab_type": "code",
        "colab": {}
      },
      "source": [
        "dias = {'Sun': 'Domingo', 'Sat': 'Sabado', 'Thur': 'Quinta', 'Fri':'Sexta'}"
      ],
      "execution_count": null,
      "outputs": []
    },
    {
      "cell_type": "code",
      "metadata": {
        "id": "wgzXmZz0GtXI",
        "colab_type": "code",
        "colab": {}
      },
      "source": [
        "gorjetas.dia_da_semana = gorjetas.dia_da_semana.map(dias)"
      ],
      "execution_count": null,
      "outputs": []
    },
    {
      "cell_type": "code",
      "metadata": {
        "id": "6w9oeGFFG34Q",
        "colab_type": "code",
        "colab": {}
      },
      "source": [
        "gorjetas.head(1)"
      ],
      "execution_count": null,
      "outputs": []
    },
    {
      "cell_type": "code",
      "metadata": {
        "id": "9JWr0J29G7ZY",
        "colab_type": "code",
        "colab": {}
      },
      "source": [
        "gorjetas.hora_do_dia.unique()"
      ],
      "execution_count": null,
      "outputs": []
    },
    {
      "cell_type": "code",
      "metadata": {
        "id": "9xMs7vfjHDKP",
        "colab_type": "code",
        "colab": {}
      },
      "source": [
        "hora = {'Dinner': 'Jantar', 'Lunch':'Almoco'}"
      ],
      "execution_count": null,
      "outputs": []
    },
    {
      "cell_type": "code",
      "metadata": {
        "id": "aEcw-afHHh3G",
        "colab_type": "code",
        "colab": {}
      },
      "source": [
        "gorjetas.hora_do_dia = gorjetas.hora_do_dia.map(hora)"
      ],
      "execution_count": null,
      "outputs": []
    },
    {
      "cell_type": "code",
      "metadata": {
        "id": "78lfY45CIKOG",
        "colab_type": "code",
        "colab": {}
      },
      "source": [
        "gorjetas.head(1)"
      ],
      "execution_count": null,
      "outputs": []
    },
    {
      "cell_type": "markdown",
      "metadata": {
        "id": "oIq7g4P-R8QV",
        "colab_type": "text"
      },
      "source": [
        "# Importando o Seaborn"
      ]
    },
    {
      "cell_type": "code",
      "metadata": {
        "id": "pcqrEcJpIQ8c",
        "colab_type": "code",
        "colab": {}
      },
      "source": [
        "pip install seaborn==0.9.0"
      ],
      "execution_count": null,
      "outputs": []
    },
    {
      "cell_type": "code",
      "metadata": {
        "id": "Bcw_77J4SRy_",
        "colab_type": "code",
        "colab": {}
      },
      "source": [
        "import seaborn as sns"
      ],
      "execution_count": null,
      "outputs": []
    },
    {
      "cell_type": "code",
      "metadata": {
        "id": "NTIemYTqSaxC",
        "colab_type": "code",
        "colab": {}
      },
      "source": [
        "!pip show seaborn"
      ],
      "execution_count": null,
      "outputs": []
    },
    {
      "cell_type": "markdown",
      "metadata": {
        "id": "lqBCd4uwStLC",
        "colab_type": "text"
      },
      "source": [
        "# Analise  1 = Valor da conta X Gorjetas"
      ]
    },
    {
      "cell_type": "code",
      "metadata": {
        "id": "2Uyn7biuS2dl",
        "colab_type": "code",
        "colab": {}
      },
      "source": [
        "gorjetas.columns"
      ],
      "execution_count": null,
      "outputs": []
    },
    {
      "cell_type": "code",
      "metadata": {
        "id": "9Ukn7MXPS5uz",
        "colab_type": "code",
        "colab": {}
      },
      "source": [
        "valor_gorgeta = sns.scatterplot(x='valor_da_conta', y= 'gorjeta', data=gorjetas)"
      ],
      "execution_count": null,
      "outputs": []
    },
    {
      "cell_type": "markdown",
      "metadata": {
        "id": "vWEwJkHXUcma",
        "colab_type": "text"
      },
      "source": [
        "## Aparentemente os valores das as gorjetas aumentam conforme o valor das contas."
      ]
    },
    {
      "cell_type": "code",
      "metadata": {
        "id": "HpKE38IPTbNT",
        "colab_type": "code",
        "colab": {}
      },
      "source": [
        "gorjetas.shape[0]"
      ],
      "execution_count": null,
      "outputs": []
    },
    {
      "cell_type": "code",
      "metadata": {
        "id": "jae0WTIDU2Zf",
        "colab_type": "code",
        "colab": {}
      },
      "source": [
        "print('A base de dados contem () registros \\n'.format(gorjetas.shape[0]))\n",
        "print('Registros nao nulos')\n",
        "gorjetas.count()"
      ],
      "execution_count": null,
      "outputs": []
    },
    {
      "cell_type": "markdown",
      "metadata": {
        "id": "iyOMygIpXzCq",
        "colab_type": "text"
      },
      "source": [
        "## Criando a porcentagem"
      ]
    },
    {
      "cell_type": "code",
      "metadata": {
        "id": "3kScdiyLWPu-",
        "colab_type": "code",
        "colab": {}
      },
      "source": [
        "gorjetas['porcentagem'] = gorjetas['gorjeta'] / gorjetas['valor_da_conta']"
      ],
      "execution_count": null,
      "outputs": []
    },
    {
      "cell_type": "code",
      "metadata": {
        "id": "Hr9cleqhYifE",
        "colab_type": "code",
        "colab": {}
      },
      "source": [
        "gorjetas.head()"
      ],
      "execution_count": null,
      "outputs": []
    },
    {
      "cell_type": "code",
      "metadata": {
        "id": "iETo7WswYmSa",
        "colab_type": "code",
        "colab": {}
      },
      "source": [
        "gorjetas.porcentagem = gorjetas.porcentagem.round(2)"
      ],
      "execution_count": null,
      "outputs": []
    },
    {
      "cell_type": "code",
      "metadata": {
        "id": "nW8IDb4SY3Fh",
        "colab_type": "code",
        "colab": {}
      },
      "source": [
        "gorjetas.head()"
      ],
      "execution_count": null,
      "outputs": []
    },
    {
      "cell_type": "code",
      "metadata": {
        "id": "LT5yBeiGY7Gx",
        "colab_type": "code",
        "colab": {}
      },
      "source": [
        "porcentagem_conta = sns.scatterplot(x='valor_da_conta', y='porcentagem', data=gorjetas)"
      ],
      "execution_count": null,
      "outputs": []
    },
    {
      "cell_type": "markdown",
      "metadata": {
        "id": "xfybaBvpaAdZ",
        "colab_type": "text"
      },
      "source": [
        "**Visualmente, o valor da conta nao e proporcional ao valor da gorjeta**"
      ]
    },
    {
      "cell_type": "code",
      "metadata": {
        "id": "kBiX3y2kaTWE",
        "colab_type": "code",
        "colab": {}
      },
      "source": [
        "porcentagem_conta_linha = sns.relplot(x='valor_da_conta', y='porcentagem', kind= 'line', data=gorjetas)"
      ],
      "execution_count": null,
      "outputs": []
    },
    {
      "cell_type": "code",
      "metadata": {
        "id": "S-H-VQO_bUt8",
        "colab_type": "code",
        "colab": {}
      },
      "source": [
        "sns.lmplot (x= 'valor_da_conta', y= 'porcentagem', data=gorjetas)"
      ],
      "execution_count": null,
      "outputs": []
    },
    {
      "cell_type": "code",
      "metadata": {
        "id": "fFRGZS0GcuRs",
        "colab_type": "code",
        "colab": {}
      },
      "source": [
        ""
      ],
      "execution_count": null,
      "outputs": []
    }
  ]
}